{
 "cells": [
  {
   "cell_type": "markdown",
   "id": "1c013372-4d73-4cb4-910d-c125c8484241",
   "metadata": {},
   "source": [
    "# Inverted Right Angled Triangle"
   ]
  },
  {
   "cell_type": "markdown",
   "id": "cb483294-7025-47bb-9efc-17e2412a9a9b",
   "metadata": {},
   "source": [
    "## Problem Description\n",
    "\n",
    "You are given an integer `n`. Your task is to return an inverted right-angled triangle pattern of `'*'` where each side has `n` characters, represented as a list of strings. The first row should have `n` stars, the second row `n-1` stars, and so on, until the last row has 1 star."
   ]
  },
  {
   "cell_type": "markdown",
   "id": "83c416a2-32f2-4b85-99e7-aaab6b413899",
   "metadata": {},
   "source": [
    "### Input Parameters\n",
    "\n",
    "* `n` (int): The height and base of the inverted right-angled triangle."
   ]
  },
  {
   "cell_type": "markdown",
   "id": "5407f72c-355c-4f75-a8a7-f48b88cc0afc",
   "metadata": {},
   "source": [
    "### Output\n",
    "\n",
    "* A list of strings where each string is a row of `'*'` characters that decreases in length from `n` to `1`."
   ]
  },
  {
   "cell_type": "markdown",
   "id": "668024f2-ea11-4439-967c-0995da6124c0",
   "metadata": {},
   "source": [
    "### Examples"
   ]
  },
  {
   "cell_type": "markdown",
   "id": "f5ea2e5d-8c79-47b1-bf22-296b13217525",
   "metadata": {},
   "source": [
    "#### Example 1\n",
    "\n",
    "Input: `3`\\\n",
    "Output: `['***', '**', '*']`"
   ]
  },
  {
   "cell_type": "markdown",
   "id": "bedcc289-2494-4578-861c-3553ec379798",
   "metadata": {},
   "source": [
    "#### Example 2\n",
    "\n",
    "Input: `5`\\\n",
    "Output: `['*****', '****', '***', '**', '*']`"
   ]
  },
  {
   "cell_type": "code",
   "execution_count": 1,
   "id": "2e2a4b19-5f51-4af3-83d3-3e6394125734",
   "metadata": {},
   "outputs": [],
   "source": [
    "def generate_inverted_triangle(n):\n",
    "    \"\"\"\n",
    "    Function to return an inverted right-angled triangle of '*' of side n as a list of strings.\n",
    "    \n",
    "    Parameters:\n",
    "    n (int): The height and base of the triangle.\n",
    "    \n",
    "    Returns:\n",
    "    list: A list of strings where each string represents a row of the triangle.\n",
    "    \"\"\"\n",
    "    output = []\n",
    "    for i in range(n):\n",
    "        row = \"*\" * (n - i)\n",
    "        output.append(row)\n",
    "    return output"
   ]
  },
  {
   "cell_type": "code",
   "execution_count": 2,
   "id": "47bdc83e-ba18-44df-875c-706c664b9dbb",
   "metadata": {},
   "outputs": [
    {
     "data": {
      "text/plain": [
       "['*']"
      ]
     },
     "execution_count": 2,
     "metadata": {},
     "output_type": "execute_result"
    }
   ],
   "source": [
    "generate_inverted_triangle(1)"
   ]
  },
  {
   "cell_type": "code",
   "execution_count": 3,
   "id": "5d7de6d7-5b13-47e3-9e14-bdc0dbe21406",
   "metadata": {},
   "outputs": [
    {
     "data": {
      "text/plain": [
       "['***', '**', '*']"
      ]
     },
     "execution_count": 3,
     "metadata": {},
     "output_type": "execute_result"
    }
   ],
   "source": [
    "generate_inverted_triangle(3)"
   ]
  },
  {
   "cell_type": "code",
   "execution_count": 4,
   "id": "98f47c49-923f-470e-ad38-1a618fd77b5b",
   "metadata": {},
   "outputs": [
    {
     "data": {
      "text/plain": [
       "['*****', '****', '***', '**', '*']"
      ]
     },
     "execution_count": 4,
     "metadata": {},
     "output_type": "execute_result"
    }
   ],
   "source": [
    "generate_inverted_triangle(5)"
   ]
  }
 ],
 "metadata": {
  "kernelspec": {
   "display_name": "Python 3 (ipykernel)",
   "language": "python",
   "name": "python3"
  },
  "language_info": {
   "codemirror_mode": {
    "name": "ipython",
    "version": 3
   },
   "file_extension": ".py",
   "mimetype": "text/x-python",
   "name": "python",
   "nbconvert_exporter": "python",
   "pygments_lexer": "ipython3",
   "version": "3.11.0"
  }
 },
 "nbformat": 4,
 "nbformat_minor": 5
}
