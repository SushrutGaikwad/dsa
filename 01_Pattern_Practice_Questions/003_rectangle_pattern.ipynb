{
 "cells": [
  {
   "cell_type": "markdown",
   "id": "22c6865b-5f97-4876-ab32-3382801c801e",
   "metadata": {},
   "source": [
    "# Rectangle Pattern"
   ]
  },
  {
   "cell_type": "markdown",
   "id": "28794ef7-243a-4ca2-b244-92372a735e08",
   "metadata": {},
   "source": [
    "## Problem Description\n",
    "\n",
    "You are given two integers, `n` and `m`. Your task is to return a rectangle pattern of `'*'`, where `n` represents the number of rows (length) and `m` represents the number of columns (breadth)."
   ]
  },
  {
   "cell_type": "markdown",
   "id": "983e311b-233a-46ba-b17f-ea9c8d365154",
   "metadata": {},
   "source": [
    "### Input\n",
    "\n",
    "* Two integers `n` and `m`, where `1 <= n`, `m <= 100`."
   ]
  },
  {
   "cell_type": "markdown",
   "id": "a6a38592-21c3-4d1a-9ee4-c01d2aacfa3b",
   "metadata": {},
   "source": [
    "### Output\n",
    "\n",
    "* A list of strings where each string represents a row of the rectangle pattern."
   ]
  },
  {
   "cell_type": "markdown",
   "id": "f4c4391a-711f-4dac-ad7d-43b2b3bc6dc4",
   "metadata": {},
   "source": [
    "### Examples"
   ]
  },
  {
   "cell_type": "markdown",
   "id": "808839a3-02ca-48c3-99b2-ceb1d697d545",
   "metadata": {},
   "source": [
    "#### Example 1\n",
    "\n",
    "Input: `n = 4`, `m = 5`\\\n",
    "Output: `['*****', '*****', '*****', '*****']`"
   ]
  },
  {
   "cell_type": "markdown",
   "id": "6440881e-fd66-49f3-9ead-3703dab15a49",
   "metadata": {},
   "source": [
    "#### Example 2\n",
    "\n",
    "Input: `n = 3`, `m = 2`\\\n",
    "Output: `['**', '**', '**']`"
   ]
  },
  {
   "cell_type": "code",
   "execution_count": 1,
   "id": "2e843c76-2b8b-472c-a5b1-01966343faef",
   "metadata": {},
   "outputs": [],
   "source": [
    "def generate_rectangle(n, m):\n",
    "    \"\"\"\n",
    "    Function to return a rectangle pattern of '*' with length n and breadth m as a list of strings.\n",
    "    \n",
    "    Parameters:\n",
    "    n (int): The number of rows in the rectangle.\n",
    "    m (int): The number of columns in the rectangle.\n",
    "    \n",
    "    Returns:\n",
    "    list: A list of strings where each string represents a row of the rectangle pattern.\n",
    "    \"\"\"\n",
    "    output = []\n",
    "    row = \"*\" * m\n",
    "    for _ in range(n):\n",
    "        output.append(row)\n",
    "    return output"
   ]
  },
  {
   "cell_type": "code",
   "execution_count": 2,
   "id": "5e96b415-746e-4c5b-94d6-c630bb77e709",
   "metadata": {},
   "outputs": [
    {
     "data": {
      "text/plain": [
       "['*']"
      ]
     },
     "execution_count": 2,
     "metadata": {},
     "output_type": "execute_result"
    }
   ],
   "source": [
    "generate_rectangle(1, 1)"
   ]
  },
  {
   "cell_type": "code",
   "execution_count": 3,
   "id": "342e690d-891a-4868-93b8-1ffd9a28cac5",
   "metadata": {},
   "outputs": [
    {
     "data": {
      "text/plain": [
       "['**', '**', '**']"
      ]
     },
     "execution_count": 3,
     "metadata": {},
     "output_type": "execute_result"
    }
   ],
   "source": [
    "generate_rectangle(3, 2)"
   ]
  },
  {
   "cell_type": "code",
   "execution_count": 4,
   "id": "7e1d43b6-b81b-48b5-a90b-c74ee306ea2c",
   "metadata": {},
   "outputs": [
    {
     "data": {
      "text/plain": [
       "['*****', '*****', '*****', '*****']"
      ]
     },
     "execution_count": 4,
     "metadata": {},
     "output_type": "execute_result"
    }
   ],
   "source": [
    "generate_rectangle(4, 5)"
   ]
  }
 ],
 "metadata": {
  "kernelspec": {
   "display_name": "Python 3 (ipykernel)",
   "language": "python",
   "name": "python3"
  },
  "language_info": {
   "codemirror_mode": {
    "name": "ipython",
    "version": 3
   },
   "file_extension": ".py",
   "mimetype": "text/x-python",
   "name": "python",
   "nbconvert_exporter": "python",
   "pygments_lexer": "ipython3",
   "version": "3.11.0"
  }
 },
 "nbformat": 4,
 "nbformat_minor": 5
}
