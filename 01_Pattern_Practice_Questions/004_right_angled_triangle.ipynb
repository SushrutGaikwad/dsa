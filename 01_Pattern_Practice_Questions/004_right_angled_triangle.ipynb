{
 "cells": [
  {
   "cell_type": "markdown",
   "id": "4bb7ad99-e43c-47e4-9130-3e66e2f619fd",
   "metadata": {},
   "source": [
    "# Right Angled Triangle"
   ]
  },
  {
   "cell_type": "markdown",
   "id": "0d002ea9-ca98-41de-aa22-6e680c7b5186",
   "metadata": {},
   "source": [
    "## Problem Description\n",
    "\n",
    "You are given an integer `n`. Your task is to return a right-angled triangle pattern of `'*'` where each side has `n` characters, represented as a list of strings. The triangle has `'*'` characters, starting with 1 star in the first row, 2 stars in the second row, and so on until the last row has `n` stars."
   ]
  },
  {
   "cell_type": "markdown",
   "id": "b2e0414c-81ff-4905-b419-3692bb168f5d",
   "metadata": {},
   "source": [
    "### Input Parameters\n",
    "\n",
    "* `n` (int): The height and base of the right-angled triangle."
   ]
  },
  {
   "cell_type": "markdown",
   "id": "caff02de-cde9-4d49-8cd9-4a5c62f4cda4",
   "metadata": {},
   "source": [
    "### Output\n",
    "\n",
    "* A list of strings where each string is a row of `'*'` characters that increases in length from 1 to `n`."
   ]
  },
  {
   "cell_type": "markdown",
   "id": "08e36186-eb3f-4810-b22e-bf6606bab992",
   "metadata": {},
   "source": [
    "### Examples"
   ]
  },
  {
   "cell_type": "markdown",
   "id": "5a5cd80e-dd44-4699-b980-8394860383b3",
   "metadata": {},
   "source": [
    "#### Example 1\n",
    "\n",
    "Input: `3`\\\n",
    "Output: `['*', '**', '***']`"
   ]
  },
  {
   "cell_type": "markdown",
   "id": "a5106a54-b24b-445d-b050-51e400df64a0",
   "metadata": {},
   "source": [
    "#### Example 2\n",
    "\n",
    "Input: `5`\\\n",
    "Output: `['*', '**', '***', '****', '*****']`"
   ]
  },
  {
   "cell_type": "code",
   "execution_count": 1,
   "id": "f6e7ab15-6023-4c57-9701-1e7f81627867",
   "metadata": {},
   "outputs": [],
   "source": [
    "def generate_triangle(n):\n",
    "    \"\"\"\n",
    "    Function to return a right-angled triangle of '*' of side n as a list of strings.\n",
    "    \n",
    "    Parameters:\n",
    "    n (int): The height and base of the triangle.\n",
    "    \n",
    "    Returns:\n",
    "    list: A list of strings where each string represents a row of the triangle.\n",
    "    \"\"\"\n",
    "    output = []\n",
    "    for i in range(1, n+1):\n",
    "        row = \"*\" * i\n",
    "        output.append(row)\n",
    "    return output"
   ]
  },
  {
   "cell_type": "code",
   "execution_count": 2,
   "id": "b906f82f-3fa6-4319-8b22-666de232c6b6",
   "metadata": {},
   "outputs": [
    {
     "data": {
      "text/plain": [
       "['*']"
      ]
     },
     "execution_count": 2,
     "metadata": {},
     "output_type": "execute_result"
    }
   ],
   "source": [
    "generate_triangle(1)"
   ]
  },
  {
   "cell_type": "code",
   "execution_count": 3,
   "id": "d2469e5b-b385-415c-9d83-bb725be6ab8d",
   "metadata": {},
   "outputs": [
    {
     "data": {
      "text/plain": [
       "['*', '**', '***']"
      ]
     },
     "execution_count": 3,
     "metadata": {},
     "output_type": "execute_result"
    }
   ],
   "source": [
    "generate_triangle(3)"
   ]
  },
  {
   "cell_type": "code",
   "execution_count": 4,
   "id": "2c2153af-d835-4720-9a45-328b17c13fba",
   "metadata": {},
   "outputs": [
    {
     "data": {
      "text/plain": [
       "['*', '**', '***', '****', '*****']"
      ]
     },
     "execution_count": 4,
     "metadata": {},
     "output_type": "execute_result"
    }
   ],
   "source": [
    "generate_triangle(5)"
   ]
  }
 ],
 "metadata": {
  "kernelspec": {
   "display_name": "Python 3 (ipykernel)",
   "language": "python",
   "name": "python3"
  },
  "language_info": {
   "codemirror_mode": {
    "name": "ipython",
    "version": 3
   },
   "file_extension": ".py",
   "mimetype": "text/x-python",
   "name": "python",
   "nbconvert_exporter": "python",
   "pygments_lexer": "ipython3",
   "version": "3.11.0"
  }
 },
 "nbformat": 4,
 "nbformat_minor": 5
}
