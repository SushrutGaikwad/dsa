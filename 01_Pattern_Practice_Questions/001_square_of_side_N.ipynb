{
 "cells": [
  {
   "cell_type": "markdown",
   "id": "8038a0c4",
   "metadata": {},
   "source": [
    "# Square of Side $N$"
   ]
  },
  {
   "cell_type": "markdown",
   "id": "dbab3406",
   "metadata": {},
   "source": [
    "## Problem Description\n",
    "\n",
    "You are given an integer `n`. Your task is to return a square pattern of size `n` × `n` made up of the character `\"*\"`, represented as a list of strings."
   ]
  },
  {
   "cell_type": "markdown",
   "id": "a8e4b5b0",
   "metadata": {},
   "source": [
    "### Input Parameters\n",
    "\n",
    "* `n` (integer): The size of the square (number of rows and columns)"
   ]
  },
  {
   "cell_type": "markdown",
   "id": "5e4df08f",
   "metadata": {},
   "source": [
    "### Output\n",
    "\n",
    "* A list of strings where each string is a row of `n` chatacters."
   ]
  },
  {
   "cell_type": "markdown",
   "id": "ccb2bb53",
   "metadata": {},
   "source": [
    "### Examples"
   ]
  },
  {
   "cell_type": "markdown",
   "id": "6b47df8c",
   "metadata": {},
   "source": [
    "#### Example 1\n",
    "\n",
    "Input: `3`\\\n",
    "Output: `['***', '***', '***']`"
   ]
  },
  {
   "cell_type": "markdown",
   "id": "48fd19b7",
   "metadata": {},
   "source": [
    "#### Example 2\n",
    "\n",
    "Input: `5`\\\n",
    "Output: `['*****', '*****', '*****', '*****', '*****']`"
   ]
  },
  {
   "cell_type": "markdown",
   "id": "a2e11f9b",
   "metadata": {},
   "source": [
    "## Solution"
   ]
  },
  {
   "cell_type": "code",
   "execution_count": 1,
   "id": "bc1a5256",
   "metadata": {},
   "outputs": [],
   "source": [
    "def generate_square(n):\n",
    "    \"\"\"\n",
    "    Function to return a square pattern of '*' of side n as a list of strings.\n",
    "    \n",
    "    Parameters:\n",
    "    n (int): The size of the square.\n",
    "    \n",
    "    Returns:\n",
    "    list: A list of strings where each string represents a row of the square.\n",
    "    \"\"\"\n",
    "    output = []\n",
    "    element = \"*\" * n\n",
    "    for _ in range(n):\n",
    "        output.append(element)\n",
    "    return output"
   ]
  },
  {
   "cell_type": "code",
   "execution_count": 2,
   "id": "df04fe35",
   "metadata": {},
   "outputs": [
    {
     "data": {
      "text/plain": [
       "['***', '***', '***']"
      ]
     },
     "execution_count": 2,
     "metadata": {},
     "output_type": "execute_result"
    }
   ],
   "source": [
    "generate_square(3)"
   ]
  },
  {
   "cell_type": "code",
   "execution_count": 3,
   "id": "b18204fc",
   "metadata": {},
   "outputs": [
    {
     "data": {
      "text/plain": [
       "['*****', '*****', '*****', '*****', '*****']"
      ]
     },
     "execution_count": 3,
     "metadata": {},
     "output_type": "execute_result"
    }
   ],
   "source": [
    "generate_square(5)"
   ]
  }
 ],
 "metadata": {
  "kernelspec": {
   "display_name": "Python 3 (ipykernel)",
   "language": "python",
   "name": "python3"
  },
  "language_info": {
   "codemirror_mode": {
    "name": "ipython",
    "version": 3
   },
   "file_extension": ".py",
   "mimetype": "text/x-python",
   "name": "python",
   "nbconvert_exporter": "python",
   "pygments_lexer": "ipython3",
   "version": "3.11.0"
  }
 },
 "nbformat": 4,
 "nbformat_minor": 5
}
