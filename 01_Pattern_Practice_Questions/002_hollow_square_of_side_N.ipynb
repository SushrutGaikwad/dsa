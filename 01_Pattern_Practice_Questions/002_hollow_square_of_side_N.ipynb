{
 "cells": [
  {
   "cell_type": "markdown",
   "id": "87d2a5c6-f023-4735-a20a-96f98142a405",
   "metadata": {},
   "source": [
    "# Hollow Square of Side $N$"
   ]
  },
  {
   "cell_type": "markdown",
   "id": "a6cba2de-3fa5-4fbf-a632-3e33cc994664",
   "metadata": {},
   "source": [
    "## Problem Description\n",
    "\n",
    "You are given an integer `n`. Your task is to return a hollow square pattern of size `n` × `n` made up of the character `'*'`, represented as a list of strings. The hollow square has `'*'` on the border, and spaces `' '` in the middle (except for side lengths of `1` and `2`)."
   ]
  },
  {
   "cell_type": "markdown",
   "id": "5f762797-c801-422d-b9d3-3ff9f9befbd9",
   "metadata": {},
   "source": [
    "### Input Parameters\n",
    "\n",
    "* `n` (int): The size of the square (number of rows and columns)."
   ]
  },
  {
   "cell_type": "markdown",
   "id": "1b6cb638-84c2-4871-b732-3916c4c33974",
   "metadata": {},
   "source": [
    "### Output\n",
    "\n",
    "* A list of strings where each string is a row of `n` characters, representing a hollow square."
   ]
  },
  {
   "cell_type": "markdown",
   "id": "312467d6-ddd0-42fe-8962-55a44e1a66a1",
   "metadata": {},
   "source": [
    "### Examples"
   ]
  },
  {
   "cell_type": "markdown",
   "id": "96a697cb-8d21-41fa-930a-141ea877e258",
   "metadata": {},
   "source": [
    "#### Example 1\n",
    "\n",
    "Input: `3`\\\n",
    "Output: `['***', '* *', '***']`"
   ]
  },
  {
   "cell_type": "markdown",
   "id": "7b33b033-fb04-4c1a-80f4-6becd815132a",
   "metadata": {},
   "source": [
    "#### Example 2\n",
    "\n",
    "Input: `5`\\\n",
    "Output: `['*****', '*   *', '*   *', '*   *', '*****']`"
   ]
  },
  {
   "cell_type": "code",
   "execution_count": 1,
   "id": "e0969076-3ccb-4724-9b2e-8c2c03245879",
   "metadata": {},
   "outputs": [],
   "source": [
    "def generate_hollow_square(n):\n",
    "    \"\"\"\n",
    "    Function to return a hollow square pattern of '*' of side n as a list of strings.\n",
    "    \n",
    "    Parameters:\n",
    "    n (int): The size of the square.\n",
    "    \n",
    "    Returns:\n",
    "    list: A list of strings where each string represents a row of the hollow square.\n",
    "    \"\"\"\n",
    "    output = []\n",
    "    for i in range(n):\n",
    "        if (i == 0) or (i == n - 1):\n",
    "            row = \"*\" * n\n",
    "            output.append(row)\n",
    "        else:\n",
    "            hollow_row = \"*\" + (n - 2) * \" \" + \"*\"\n",
    "            output.append(hollow_row)\n",
    "    return output"
   ]
  },
  {
   "cell_type": "code",
   "execution_count": 2,
   "id": "1d4bfed8-a9ef-46ac-b826-73a6b5ef2e9a",
   "metadata": {},
   "outputs": [
    {
     "data": {
      "text/plain": [
       "['*']"
      ]
     },
     "execution_count": 2,
     "metadata": {},
     "output_type": "execute_result"
    }
   ],
   "source": [
    "generate_hollow_square(1)"
   ]
  },
  {
   "cell_type": "code",
   "execution_count": 3,
   "id": "1dcdd80b-a1ca-43a7-ae2e-61b74eb276d7",
   "metadata": {},
   "outputs": [
    {
     "data": {
      "text/plain": [
       "['**', '**']"
      ]
     },
     "execution_count": 3,
     "metadata": {},
     "output_type": "execute_result"
    }
   ],
   "source": [
    "generate_hollow_square(2)"
   ]
  },
  {
   "cell_type": "code",
   "execution_count": 4,
   "id": "a5915c70-26c9-4c10-b0a2-2a23ce99cc1a",
   "metadata": {},
   "outputs": [
    {
     "data": {
      "text/plain": [
       "['***', '* *', '***']"
      ]
     },
     "execution_count": 4,
     "metadata": {},
     "output_type": "execute_result"
    }
   ],
   "source": [
    "generate_hollow_square(3)"
   ]
  },
  {
   "cell_type": "code",
   "execution_count": 5,
   "id": "d77b6798-c7f5-40f2-9cbf-57680826e8c1",
   "metadata": {},
   "outputs": [
    {
     "data": {
      "text/plain": [
       "['*****', '*   *', '*   *', '*   *', '*****']"
      ]
     },
     "execution_count": 5,
     "metadata": {},
     "output_type": "execute_result"
    }
   ],
   "source": [
    "generate_hollow_square(5)"
   ]
  }
 ],
 "metadata": {
  "kernelspec": {
   "display_name": "Python 3 (ipykernel)",
   "language": "python",
   "name": "python3"
  },
  "language_info": {
   "codemirror_mode": {
    "name": "ipython",
    "version": 3
   },
   "file_extension": ".py",
   "mimetype": "text/x-python",
   "name": "python",
   "nbconvert_exporter": "python",
   "pygments_lexer": "ipython3",
   "version": "3.11.0"
  }
 },
 "nbformat": 4,
 "nbformat_minor": 5
}
