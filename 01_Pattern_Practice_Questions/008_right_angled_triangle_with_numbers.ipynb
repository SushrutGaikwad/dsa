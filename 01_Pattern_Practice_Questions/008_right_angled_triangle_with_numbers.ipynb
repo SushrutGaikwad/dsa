{
 "cells": [
  {
   "cell_type": "markdown",
   "id": "a90ae205-195f-472e-b976-f8cbe7a175a4",
   "metadata": {},
   "source": [
    "# Right Angled Triangle with Numbers"
   ]
  },
  {
   "cell_type": "markdown",
   "id": "25270ea0-4c40-4698-ae9a-0d8a5a5d193a",
   "metadata": {},
   "source": [
    "## Problem Description\n",
    "\n",
    "You are given an integer `n`. Your task is to return a right-angled triangle pattern where each row contains repeated digits. The first row contains the number `1` repeated once, the second row contains the number `2` repeated twice, and so on until the `n`-th row contains the number `n` repeated `n` times."
   ]
  },
  {
   "cell_type": "markdown",
   "id": "04359034-b79d-4dfe-ad65-fd7259114444",
   "metadata": {},
   "source": [
    "### Input Parameters\n",
    "\n",
    "* A single integer `n`, where `1 <= n <= 100`."
   ]
  },
  {
   "cell_type": "markdown",
   "id": "070c59c3-5a6c-4383-a82e-6ac12718c5ee",
   "metadata": {},
   "source": [
    "### Output\n",
    "\n",
    "* A list of strings where each string represents a row in the triangle. The `i`-th row contains the digit `i` repeated `i` times."
   ]
  },
  {
   "cell_type": "markdown",
   "id": "0d9e3ab2-69fe-4e8e-9d53-b853ced3eedb",
   "metadata": {},
   "source": [
    "### Examples"
   ]
  },
  {
   "cell_type": "markdown",
   "id": "bd873e19-276d-43eb-8f32-52d993819c77",
   "metadata": {},
   "source": [
    "#### Example 1\n",
    "\n",
    "Input: `5`\\\n",
    "Output: `['1', '22', '333', '4444', '55555']`"
   ]
  },
  {
   "cell_type": "markdown",
   "id": "4c8e24c0-dd9f-4c11-b53f-3b899cf04652",
   "metadata": {},
   "source": [
    "#### Example 2\n",
    "\n",
    "Input: `3`\\\n",
    "Output: `['1', '22', '333']`"
   ]
  },
  {
   "cell_type": "code",
   "execution_count": 1,
   "id": "aaa3df1d-523f-458e-b839-c022a090abbc",
   "metadata": {},
   "outputs": [],
   "source": [
    "def generate_number_triangle(n):\n",
    "    \"\"\"\n",
    "    Function to return a right-angled triangle of repeated numbers of side n as a list of strings.\n",
    "    \n",
    "    Parameters:\n",
    "    n (int): The height of the triangle.\n",
    "    \n",
    "    Returns:\n",
    "    list: A list of strings where each string represents a row of the triangle.\n",
    "    \"\"\"\n",
    "    output = []\n",
    "    for i in range(1, n+1):\n",
    "        row = f\"{i}\"*i\n",
    "        output.append(row)\n",
    "    return output"
   ]
  },
  {
   "cell_type": "code",
   "execution_count": 2,
   "id": "b339a11f-97f5-4d59-b7cc-50c5f4751594",
   "metadata": {},
   "outputs": [
    {
     "data": {
      "text/plain": [
       "['1']"
      ]
     },
     "execution_count": 2,
     "metadata": {},
     "output_type": "execute_result"
    }
   ],
   "source": [
    "generate_number_triangle(1)"
   ]
  },
  {
   "cell_type": "code",
   "execution_count": 3,
   "id": "cdd8a387-7e21-473b-8f4e-2ee3edf73b8d",
   "metadata": {},
   "outputs": [
    {
     "data": {
      "text/plain": [
       "['1', '22', '333']"
      ]
     },
     "execution_count": 3,
     "metadata": {},
     "output_type": "execute_result"
    }
   ],
   "source": [
    "generate_number_triangle(3)"
   ]
  },
  {
   "cell_type": "code",
   "execution_count": 4,
   "id": "a0436c39-dce5-478b-8f5e-8eb43a01ed4b",
   "metadata": {},
   "outputs": [
    {
     "data": {
      "text/plain": [
       "['1', '22', '333', '4444', '55555']"
      ]
     },
     "execution_count": 4,
     "metadata": {},
     "output_type": "execute_result"
    }
   ],
   "source": [
    "generate_number_triangle(5)"
   ]
  }
 ],
 "metadata": {
  "kernelspec": {
   "display_name": "Python 3 (ipykernel)",
   "language": "python",
   "name": "python3"
  },
  "language_info": {
   "codemirror_mode": {
    "name": "ipython",
    "version": 3
   },
   "file_extension": ".py",
   "mimetype": "text/x-python",
   "name": "python",
   "nbconvert_exporter": "python",
   "pygments_lexer": "ipython3",
   "version": "3.11.0"
  }
 },
 "nbformat": 4,
 "nbformat_minor": 5
}
