{
 "cells": [
  {
   "cell_type": "markdown",
   "id": "be59c92a-8e19-46a5-8040-93935d8ae43f",
   "metadata": {},
   "source": [
    "# Pyramid Pattern"
   ]
  },
  {
   "cell_type": "markdown",
   "id": "c1938b35-2cc8-4367-bab8-2cdd4d0f3df0",
   "metadata": {},
   "source": [
    "## Problem Description\n",
    "\n",
    "You are given an integer `n`. Your task is to return a pyramid pattern of `'*'` where each side has `n` rows, represented as a list of strings. The pyramid is centered, with 1 star in the first row, 3 stars in the second row, and so on, increasing by 2 stars per row until the base row has `2n - 1` stars."
   ]
  },
  {
   "cell_type": "markdown",
   "id": "1051142a-ea51-4dfd-83bc-25dd945275e7",
   "metadata": {},
   "source": [
    "### Input\n",
    "\n",
    "* A single integer `n`, where `1 <= n <= 100`."
   ]
  },
  {
   "cell_type": "markdown",
   "id": "372e485b-700b-4825-a6a7-0143eecebbb8",
   "metadata": {},
   "source": [
    "### Output\n",
    "\n",
    "* A list of strings where each string contains stars (`'*'`) centered, forming a pyramid shape. Each row has an increasing number of stars, with appropriate spaces for centering."
   ]
  },
  {
   "cell_type": "markdown",
   "id": "1ce3beda-17dd-435a-b92a-419b4bc1a099",
   "metadata": {},
   "source": [
    "### Examples"
   ]
  },
  {
   "cell_type": "markdown",
   "id": "deecd07b-3ab4-49ce-819c-aff5cd9cb9bd",
   "metadata": {},
   "source": [
    "#### Example 1\n",
    "\n",
    "Input: `3`\\\n",
    "Output: `['  *  ', ' *** ', '*****']`"
   ]
  },
  {
   "cell_type": "markdown",
   "id": "8f528f49-7092-44be-a509-b6a1acd468b3",
   "metadata": {},
   "source": [
    "#### Example 2\n",
    "\n",
    "Input: `5`\\\n",
    "Output: `['    *    ', '   ***   ', '  *****  ', ' ******* ', '*********']`"
   ]
  },
  {
   "cell_type": "code",
   "execution_count": 1,
   "id": "e733c840-8b1e-4761-808a-567ab1f5fb07",
   "metadata": {},
   "outputs": [],
   "source": [
    "def generate_pyramid(n):\n",
    "    \"\"\"\n",
    "    Function to return a pyramid pattern of '*' of side n as a list of strings.\n",
    "    \n",
    "    Parameters:\n",
    "    n (int): The number of rows in the pyramid.\n",
    "    \n",
    "    Returns:\n",
    "    list: A list of strings where each string represents a row of the pyramid.\n",
    "    \"\"\"\n",
    "    output = []\n",
    "    iteration = 0\n",
    "    for i in range(1, 2*n, 2):\n",
    "        iteration += 1\n",
    "        row = \"*\" * i\n",
    "        row = (\" \"*(n - iteration)) + row + (\" \"*(n - iteration))\n",
    "        output.append(row)\n",
    "    return output"
   ]
  },
  {
   "cell_type": "code",
   "execution_count": 2,
   "id": "c768b927-8b89-428e-b822-c31bc68b85c2",
   "metadata": {},
   "outputs": [
    {
     "data": {
      "text/plain": [
       "['*']"
      ]
     },
     "execution_count": 2,
     "metadata": {},
     "output_type": "execute_result"
    }
   ],
   "source": [
    "generate_pyramid(1)"
   ]
  },
  {
   "cell_type": "code",
   "execution_count": 3,
   "id": "6ad0006e-76b0-4475-8e50-55a48d0b4fe1",
   "metadata": {},
   "outputs": [
    {
     "data": {
      "text/plain": [
       "['  *  ', ' *** ', '*****']"
      ]
     },
     "execution_count": 3,
     "metadata": {},
     "output_type": "execute_result"
    }
   ],
   "source": [
    "generate_pyramid(3)"
   ]
  },
  {
   "cell_type": "code",
   "execution_count": 4,
   "id": "b18bcc01-3d12-4d95-b3f3-490e33a9fdb2",
   "metadata": {},
   "outputs": [
    {
     "data": {
      "text/plain": [
       "['    *    ', '   ***   ', '  *****  ', ' ******* ', '*********']"
      ]
     },
     "execution_count": 4,
     "metadata": {},
     "output_type": "execute_result"
    }
   ],
   "source": [
    "generate_pyramid(5)"
   ]
  }
 ],
 "metadata": {
  "kernelspec": {
   "display_name": "Python 3 (ipykernel)",
   "language": "python",
   "name": "python3"
  },
  "language_info": {
   "codemirror_mode": {
    "name": "ipython",
    "version": 3
   },
   "file_extension": ".py",
   "mimetype": "text/x-python",
   "name": "python",
   "nbconvert_exporter": "python",
   "pygments_lexer": "ipython3",
   "version": "3.11.0"
  }
 },
 "nbformat": 4,
 "nbformat_minor": 5
}
