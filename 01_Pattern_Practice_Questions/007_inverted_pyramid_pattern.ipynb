{
 "cells": [
  {
   "cell_type": "markdown",
   "id": "7dda2733-f191-4e3d-b5bd-0c239bd3628d",
   "metadata": {},
   "source": [
    "# Inverted Pyramid Pattern"
   ]
  },
  {
   "cell_type": "markdown",
   "id": "6c7f5de4-acf8-4d58-af93-6dbb2de5acb7",
   "metadata": {},
   "source": [
    "## Problem Description\n",
    "\n",
    "You are given an integer `n`. Your task is to return an inverted pyramid pattern of `'*'`, where each side has `n` rows, represented as a list of strings. The first row has `2n - 1` stars, the second row has `2n - 3` stars, and so on, until the last row has 1 star, with each row centered using spaces."
   ]
  },
  {
   "cell_type": "markdown",
   "id": "3ea8a810-6cfa-44a0-9fad-b4ac558061dd",
   "metadata": {},
   "source": [
    "### Input Parameters\n",
    "\n",
    "* `n` (int): The number of rows in the inverted pyramid."
   ]
  },
  {
   "cell_type": "markdown",
   "id": "5cf6d145-72a7-4a0f-be92-9b8423493084",
   "metadata": {},
   "source": [
    "### Output\n",
    "\n",
    "* A list of strings where each string represents a row of the inverted pyramid."
   ]
  },
  {
   "cell_type": "markdown",
   "id": "2800e4ef-880d-4b45-a594-d0671bd404cc",
   "metadata": {},
   "source": [
    "### Examples"
   ]
  },
  {
   "cell_type": "markdown",
   "id": "c696814a-b429-42a3-9ed3-a90ee52599a2",
   "metadata": {},
   "source": [
    "#### Example 1\n",
    "\n",
    "Input: `3`\\\n",
    "Output: `['*****', ' *** ', '  *  ']`"
   ]
  },
  {
   "cell_type": "markdown",
   "id": "3a248e4d-828b-4854-9cba-312afa270b8e",
   "metadata": {},
   "source": [
    "#### Example 2\n",
    "\n",
    "Input: `5`\\\n",
    "Output: `['*********', ' ******* ', '  *****  ', '   ***   ', '    *    ']`"
   ]
  },
  {
   "cell_type": "code",
   "execution_count": 1,
   "id": "07db93a0-a981-44d9-940c-80fa96d71199",
   "metadata": {},
   "outputs": [],
   "source": [
    "def generate_inverted_pyramid(n):\n",
    "    \"\"\"\n",
    "    Function to return an inverted pyramid pattern of '*' of side n as a list of strings.\n",
    "    \n",
    "    Parameters:\n",
    "    n (int): The number of rows in the inverted pyramid.\n",
    "    \n",
    "    Returns:\n",
    "    list: A list of strings where each string represents a row of the inverted pyramid.\n",
    "    \"\"\"\n",
    "    output = []\n",
    "    iteration = 0\n",
    "    for i in range(1, 2*n, 2):\n",
    "        iteration += 1\n",
    "        row = \"*\" * ((2*n) - i)\n",
    "        row = (\" \" * (iteration - 1)) + row + (\" \" * (iteration - 1))\n",
    "        output.append(row)\n",
    "    return output"
   ]
  },
  {
   "cell_type": "code",
   "execution_count": 2,
   "id": "af1b1e30-544f-436e-8cc3-e44365ac11f7",
   "metadata": {},
   "outputs": [
    {
     "data": {
      "text/plain": [
       "['*']"
      ]
     },
     "execution_count": 2,
     "metadata": {},
     "output_type": "execute_result"
    }
   ],
   "source": [
    "generate_inverted_pyramid(1)"
   ]
  },
  {
   "cell_type": "code",
   "execution_count": 3,
   "id": "745dc173-7e6b-4578-836f-6f829e229892",
   "metadata": {},
   "outputs": [
    {
     "data": {
      "text/plain": [
       "['*****', ' *** ', '  *  ']"
      ]
     },
     "execution_count": 3,
     "metadata": {},
     "output_type": "execute_result"
    }
   ],
   "source": [
    "generate_inverted_pyramid(3)"
   ]
  },
  {
   "cell_type": "code",
   "execution_count": 4,
   "id": "9175852a-f42b-4306-9841-7b9fc69d1126",
   "metadata": {},
   "outputs": [
    {
     "data": {
      "text/plain": [
       "['*********', ' ******* ', '  *****  ', '   ***   ', '    *    ']"
      ]
     },
     "execution_count": 4,
     "metadata": {},
     "output_type": "execute_result"
    }
   ],
   "source": [
    "generate_inverted_pyramid(5)"
   ]
  }
 ],
 "metadata": {
  "kernelspec": {
   "display_name": "Python 3 (ipykernel)",
   "language": "python",
   "name": "python3"
  },
  "language_info": {
   "codemirror_mode": {
    "name": "ipython",
    "version": 3
   },
   "file_extension": ".py",
   "mimetype": "text/x-python",
   "name": "python",
   "nbconvert_exporter": "python",
   "pygments_lexer": "ipython3",
   "version": "3.11.0"
  }
 },
 "nbformat": 4,
 "nbformat_minor": 5
}
